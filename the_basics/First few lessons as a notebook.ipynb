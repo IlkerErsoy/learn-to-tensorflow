{
 "cells": [
  {
   "cell_type": "markdown",
   "metadata": {},
   "source": [
    "# Getting Started Lessons\n",
    "\n",
    "The objective of these lessons are to gently introduce some core concepts and basic usage of Tensorflow.  There are several common misunderstandings that hold independent learners back, such as the difference between the Tensorflow code and the Tensorflow graph, which can take weeks or months to figure out and can be very fustrating to learn on ones own.\n",
    "\n",
    "The following concepts will be explored:\n",
    "\n",
    "- executing the *Code* vs the *Graph*\n",
    "- reversing the *Graph*\n",
    "- a definition of *Model*, *Learning Rate*, and *Loss*\n",
    "- a better way to structure code\n",
    "- how tensorflow can be used to *Learn* variables in a *Graph*\n",
    "\n",
    "For each lesson open the corresponding file, read the code and the comments, then run and modify the code to get a feel for it."
   ]
  },
  {
   "cell_type": "markdown",
   "metadata": {},
   "source": [
    "## Lesson 0 - A review\n",
    "\n",
    "- Use python to calculate a x b = c"
   ]
  },
  {
   "cell_type": "code",
   "execution_count": 1,
   "metadata": {},
   "outputs": [
    {
     "name": "stdout",
     "output_type": "stream",
     "text": [
      "a = 5.0\n",
      "b = 7.0\n",
      "c = 35.0\n"
     ]
    }
   ],
   "source": [
    "# we will use just plain old python for variables\n",
    "# and get it to do something very straight forward\n",
    "\n",
    "a = 5.0\n",
    "b = 7.0\n",
    "\n",
    "# -- induction --\n",
    "# Multiply a by b\n",
    "c = a * b\n",
    "\n",
    "\n",
    "# let's check out a, b, and c\n",
    "print(\"a =\", a)\n",
    "print(\"b =\", b)\n",
    "print(\"c =\", c)"
   ]
  },
  {
   "cell_type": "markdown",
   "metadata": {},
   "source": [
    "## Lesson 1 - Just make something happen\n",
    "\n",
    "We will build on the last example and do the same thing\n",
    "but using Tensorflow.  We will define a and b as tensorflow constants.\n",
    "\n",
    "Concepts :\n",
    "- Make something super simple\n",
    "- Address #1 mental hurdle right away\n",
    "- 'a' isn't equal to 5, 'b' isn't equal to 7 !\n",
    "- Code the *graph* then run the *graph*"
   ]
  },
  {
   "cell_type": "code",
   "execution_count": 2,
   "metadata": {},
   "outputs": [],
   "source": [
    "# -- imports --\n",
    "import tensorflow as tf\n",
    "from tensorflow.compat.v1 import Session\n",
    "\n",
    "# -- constants --\n",
    "a = tf.constant(5.0)\n",
    "b = tf.constant(7.0)\n",
    "\n",
    "# -- induction --\n",
    "# Multiply a by b\n",
    "c = tf.multiply(a, b)\n",
    "\n",
    "# start a session\n",
    "sess = Session()"
   ]
  },
  {
   "cell_type": "markdown",
   "metadata": {},
   "source": [
    "### let's check out a, b, and c\n",
    "notice that when we print them out we do not get their values,\n",
    "that is because we need to evaluate them"
   ]
  },
  {
   "cell_type": "code",
   "execution_count": 3,
   "metadata": {},
   "outputs": [
    {
     "name": "stdout",
     "output_type": "stream",
     "text": [
      "a = Tensor(\"Const:0\", shape=(), dtype=float32)\n",
      "b = Tensor(\"Const_1:0\", shape=(), dtype=float32)\n",
      "c = Tensor(\"Mul:0\", shape=(), dtype=float32)\n"
     ]
    }
   ],
   "source": [
    "print(\"a =\", a)\n",
    "print(\"b =\", b)\n",
    "print(\"c =\", c)"
   ]
  },
  {
   "cell_type": "markdown",
   "metadata": {},
   "source": [
    "We can see that a,b, and c are not actually values.  We need to run them in a tensorflow session to get their value"
   ]
  },
  {
   "cell_type": "code",
   "execution_count": 4,
   "metadata": {},
   "outputs": [
    {
     "name": "stdout",
     "output_type": "stream",
     "text": [
      "The result of 5x7 is 35.0\n"
     ]
    }
   ],
   "source": [
    "# let's do the multiplication\n",
    "print(\"The result of 5x7 is\", sess.run(c))\n",
    "# that evaluates c"
   ]
  },
  {
   "cell_type": "code",
   "execution_count": 5,
   "metadata": {},
   "outputs": [
    {
     "name": "stdout",
     "output_type": "stream",
     "text": [
      "The value of a is 5.0\n",
      "The value of b is 7.0\n"
     ]
    }
   ],
   "source": [
    "# let's evaluate a and b\n",
    "print(\"The value of a is\", sess.run(a))\n",
    "print(\"The value of b is\", sess.run(b))"
   ]
  },
  {
   "cell_type": "markdown",
   "metadata": {},
   "source": [
    "Some discussion about why we don't use python variables and instead have to use tensorflow variables that need evaluation\n",
    "\n",
    "The main use-case of tensorflow is to learn better values (like the values of a,b, or c) by using a process called gradient descent.\n",
    "We will explore how to do this in Lesson 4.  For now, what is important to remember is that for tensorflow to be able to do gradient\n",
    "descent it needs to know how to calculate each value.  In the above we defined \n",
    "\n",
    "c = tf.multiply(a, b)\n",
    "\n",
    "This doesn't actually multipy a and b, but instead defines how to calculate c.  We will see in Lesson 4 that tensorflow can\n",
    "use this information to learn better values of a if a*b != c.\n"
   ]
  },
  {
   "cell_type": "markdown",
   "metadata": {},
   "source": [
    "## Lesson 2 - Same thing but a little better\n",
    "\n",
    "Our code will be really limited in use if all we can use is constants in tensorflow\n",
    "\n",
    "Here we introduce how we can pass different values using placeholders\n",
    "and passing the values in using the feed_dict argument in sess.run\n",
    "\n",
    "Concepts :\n",
    "- placeholder instead of constants\n",
    "- reuse the same *graph*"
   ]
  },
  {
   "cell_type": "code",
   "execution_count": 6,
   "metadata": {},
   "outputs": [
    {
     "name": "stdout",
     "output_type": "stream",
     "text": [
      "The result of 5x7 is 35.0\n",
      "The result of 2x3 is 6.0\n"
     ]
    }
   ],
   "source": [
    "from tensorflow.compat.v1 import placeholder\n",
    "\n",
    "# -- variables --\n",
    "a = placeholder(dtype=tf.float32)\n",
    "b = placeholder(dtype=tf.float32)\n",
    "\n",
    "# -- induction --\n",
    "# Multiply a by b\n",
    "c = tf.multiply(a, b)\n",
    "\n",
    "# start a session\n",
    "sess = Session()\n",
    "\n",
    "print(\"The result of 5x7 is\", sess.run(c, feed_dict={a: 5, b: 7}))\n",
    "print(\"The result of 2x3 is\", sess.run(c, feed_dict={a: 2, b: 3}))\n"
   ]
  },
  {
   "cell_type": "markdown",
   "metadata": {},
   "source": [
    "## Lesson 3 - Same thing but a little better\n",
    "\n",
    "- Variable vs Constant vs Placeholder\n",
    "- Change variable"
   ]
  },
  {
   "cell_type": "code",
   "execution_count": 7,
   "metadata": {},
   "outputs": [
    {
     "name": "stdout",
     "output_type": "stream",
     "text": [
      "The result of  5.0 x 7.0 is 35.0\n",
      "Lets assign 10 to A and try this again\n",
      "The result of  10.0 x 7.0 is 70.0\n"
     ]
    }
   ],
   "source": [
    "from tensorflow.compat.v1 import global_variables_initializer, assign\n",
    "\n",
    "# -- variables -- (we'll refer to constants as variables from now on)\n",
    "a = tf.Variable(5.0)\n",
    "b = tf.constant(7.0)\n",
    "\n",
    "# -- induction --\n",
    "# Multiply a by b\n",
    "c = tf.multiply(a, b)\n",
    "\n",
    "# start a session\n",
    "sess = Session()\n",
    "\n",
    "# we have to initialize variables\n",
    "sess.run(global_variables_initializer())\n",
    "\n",
    "# let's do the multiplication\n",
    "print(\"The result of \", sess.run(a), \"x\", sess.run(b), \"is\", sess.run(c))\n",
    "\n",
    "print(\"Lets assign 10 to A and try this again\")\n",
    "sess.run(assign(a, 10))\n",
    "print(\"The result of \", sess.run(a), \"x\", sess.run(b), \"is\", sess.run(c))\n"
   ]
  },
  {
   "cell_type": "markdown",
   "metadata": {},
   "source": [
    "## Lesson 4 - In Reverse\n",
    "\n",
    "- Tensorflow is used to *learn*\n",
    "- for *ab = c*, what if we know *b* and *c*?\n",
    "- use Tensorflow to estimate *a*\n",
    "- what happens if the learning rate is too high or too low?"
   ]
  },
  {
   "cell_type": "code",
   "execution_count": 8,
   "metadata": {},
   "outputs": [],
   "source": [
    "from tensorflow.compat.v1.train import GradientDescentOptimizer\n",
    "learning_rate=0.001\n",
    "iterations=100\n",
    "target=30\n",
    "\n",
    "# -- variables --\n",
    "a = tf.Variable(5.0)\n",
    "b = tf.constant(7.0)\n",
    "\n",
    "# -- induction --\n",
    "# Multiply a by b\n",
    "c = tf.multiply(a, b)"
   ]
  },
  {
   "cell_type": "markdown",
   "metadata": {},
   "source": [
    "### Loss\n",
    "In machine learning, we often call the error function the 'loss'.\n",
    "We want c to equal the target so we calculate a loss accordingly.\n",
    "In this case we will use the square of the difference as the error."
   ]
  },
  {
   "cell_type": "code",
   "execution_count": 9,
   "metadata": {},
   "outputs": [],
   "source": [
    "# -- loss --\n",
    "loss = tf.square(c - target)"
   ]
  },
  {
   "cell_type": "markdown",
   "metadata": {},
   "source": [
    "We want tensorflow to learn from the loss (the error) and\n",
    "this is how we do that"
   ]
  },
  {
   "cell_type": "code",
   "execution_count": 10,
   "metadata": {},
   "outputs": [],
   "source": [
    "optimizer = GradientDescentOptimizer(learning_rate)\n",
    "learn = optimizer.minimize(loss)"
   ]
  },
  {
   "cell_type": "code",
   "execution_count": 11,
   "metadata": {},
   "outputs": [],
   "source": [
    "# start a session\n",
    "sess = Session()\n",
    "\n",
    "# initialize the variables\n",
    "sess.run(global_variables_initializer())"
   ]
  },
  {
   "cell_type": "code",
   "execution_count": 12,
   "metadata": {},
   "outputs": [
    {
     "name": "stdout",
     "output_type": "stream",
     "text": [
      "The result of  5.0 x 7.0 is 35.0 , but we want it to = 30\n",
      "\n",
      "We will use tensorflow to 'learn' the variable a.\n",
      "\n",
      "----------------------------------------\n",
      "Iteration  | Result a*b=c\n",
      "----------------------------------------\n",
      "        1  | 4.93 * 7.00 = 34.51\n",
      "        2  | 4.87 * 7.00 = 34.07\n",
      "        3  | 4.81 * 7.00 = 33.67\n",
      "        4  | 4.76 * 7.00 = 33.31\n",
      "        5  | 4.71 * 7.00 = 32.99\n",
      "        6  | 4.67 * 7.00 = 32.69\n",
      "        7  | 4.63 * 7.00 = 32.43\n",
      "        8  | 4.60 * 7.00 = 32.19\n",
      "        9  | 4.57 * 7.00 = 31.98\n",
      "       10  | 4.54 * 7.00 = 31.78\n",
      "       20  | 4.38 * 7.00 = 30.64\n",
      "       30  | 4.32 * 7.00 = 30.23\n",
      "       40  | 4.30 * 7.00 = 30.08\n",
      "       50  | 4.29 * 7.00 = 30.03\n",
      "       60  | 4.29 * 7.00 = 30.01\n",
      "       70  | 4.29 * 7.00 = 30.00\n",
      "       80  | 4.29 * 7.00 = 30.00\n",
      "       90  | 4.29 * 7.00 = 30.00\n",
      "      100  | 4.29 * 7.00 = 30.00\n"
     ]
    }
   ],
   "source": [
    "# let's do the multiplication\n",
    "print(\"The result of \", sess.run(a), \"x\", sess.run(b), \"is\", sess.run(c), \", but we want it to =\", target)\n",
    "\n",
    "print()\n",
    "print(\"We will use tensorflow to 'learn' the variable a.\")\n",
    "print()\n",
    "\n",
    "print('-'*40)\n",
    "print('Iteration  | Result a*b=c')\n",
    "print('-'*40)\n",
    "for iteration in range(1, iterations + 1):\n",
    "\n",
    "    # learn a\n",
    "    sess.run(learn)\n",
    "\n",
    "    # print out what is going on\n",
    "    if iteration < 10 or (iteration % 10 == 0 and iteration < 100) or (iteration % 100 == 0 and iteration < 1000) or iteration % 1000 == 0:\n",
    "        print(f'{iteration:9}  | {sess.run(a):.2f} * {sess.run(b):.2f} = {sess.run(c):.2f}')"
   ]
  },
  {
   "cell_type": "markdown",
   "metadata": {},
   "source": [
    "And there we have it, we used Tensorflow to discover\n",
    "that a has to equal about 4.29 if b = 7 and c = 30.\n",
    "\n",
    "If you know algebra you may be wondering why we didn't just solve for a.\n",
    "\n",
    "This is a general technique that can be used to solve larger problems that do\n",
    "not have an algebraic solution, like recognizing a cat in a photo.\n",
    "\n",
    "Starting with something small that we can verify another way helps us understand it.\n"
   ]
  },
  {
   "cell_type": "markdown",
   "metadata": {},
   "source": [
    "## Lesson 5 - In Reverse with Gradient\n",
    "\n",
    "- Same as before but let's look at the gradient"
   ]
  },
  {
   "cell_type": "code",
   "execution_count": 13,
   "metadata": {},
   "outputs": [
    {
     "name": "stdout",
     "output_type": "stream",
     "text": [
      "The result of  5.0 x 7.0 is 35.0 , but we want it to = 30\n",
      "\n",
      "We will use tensorflow to 'learn' the variable a.\n",
      "\n",
      "------------------------------------------------------------\n",
      "Iteration  | gradient * learning rate | Result a * b = c       \n",
      "           |     = correction to a    |\n",
      "------------------------------------------------------------\n",
      "        0  |                          | 5.00 * 7.00 = 35.00\n",
      "        1  | 63.14 * 0.0010 = 0.0631  | 4.93 * 7.00 = 34.51\n",
      "        2  | 56.95 * 0.0010 = 0.0570  | 4.87 * 7.00 = 34.07\n",
      "        3  | 51.37 * 0.0010 = 0.0514  | 4.81 * 7.00 = 33.67\n",
      "        4  | 46.34 * 0.0010 = 0.0463  | 4.76 * 7.00 = 33.31\n",
      "        5  | 41.80 * 0.0010 = 0.0418  | 4.71 * 7.00 = 32.99\n",
      "        6  | 37.70 * 0.0010 = 0.0377  | 4.67 * 7.00 = 32.69\n",
      "        7  | 34.00 * 0.0010 = 0.0340  | 4.63 * 7.00 = 32.43\n",
      "        8  | 30.67 * 0.0010 = 0.0307  | 4.60 * 7.00 = 32.19\n",
      "        9  | 27.67 * 0.0010 = 0.0277  | 4.57 * 7.00 = 31.98\n",
      "       10  | 24.96 * 0.0010 = 0.0250  | 4.54 * 7.00 = 31.78\n",
      "       20  |  8.90 * 0.0010 = 0.0089  | 4.38 * 7.00 = 30.64\n",
      "       30  |  3.17 * 0.0010 = 0.0032  | 4.32 * 7.00 = 30.23\n",
      "       40  |  1.13 * 0.0010 = 0.0011  | 4.30 * 7.00 = 30.08\n",
      "       50  |  0.40 * 0.0010 = 0.0004  | 4.29 * 7.00 = 30.03\n",
      "       60  |  0.14 * 0.0010 = 0.0001  | 4.29 * 7.00 = 30.01\n",
      "       70  |  0.05 * 0.0010 = 0.0001  | 4.29 * 7.00 = 30.00\n",
      "       80  |  0.02 * 0.0010 = 0.0000  | 4.29 * 7.00 = 30.00\n",
      "       90  |  0.01 * 0.0010 = 0.0000  | 4.29 * 7.00 = 30.00\n",
      "      100  |  0.00 * 0.0010 = 0.0000  | 4.29 * 7.00 = 30.00\n"
     ]
    }
   ],
   "source": [
    "# we want to see what the optimizer is doing in this example,\n",
    "# so we will get the computed gradients (error correction) from the optimizer and display them.\n",
    "# usually we don't do this, but it will help us see what is going on\n",
    "gradient = optimizer.compute_gradients(loss, var_list=[a])\n",
    "\n",
    "# reinitialize the variables\n",
    "sess.run(global_variables_initializer())\n",
    "\n",
    "# let's do the multiplication\n",
    "print(\"The result of \", sess.run(a), \"x\", sess.run(b), \"is\", sess.run(c), \", but we want it to =\", target)\n",
    "\n",
    "print()\n",
    "print(\"We will use tensorflow to 'learn' the variable a.\")\n",
    "print()\n",
    "\n",
    "print('-'*60)\n",
    "print('Iteration  | gradient * learning rate | Result a * b = c       ')\n",
    "print('           |     = correction to a    |')\n",
    "print('-'*60)\n",
    "print(f'{0:9}  |                          | {sess.run(a):.2f} * {sess.run(b):.2f} = {sess.run(c):.2f}')\n",
    "for iteration in range(1, iterations + 1):\n",
    "\n",
    "    # learn a\n",
    "    sess.run(learn)\n",
    "\n",
    "    # print out what is going on\n",
    "    if iteration < 10 or (iteration % 10 == 0 and iteration < 100) or (iteration % 100 == 0 and iteration < 1000) or iteration % 1000 == 0:\n",
    "        print(f'{iteration:9}  | {sess.run(gradient)[0][0]:5.2f} * {learning_rate:.4f} = {sess.run(gradient)[0][0]*learning_rate:.4f}  | {sess.run(a):.2f} * {sess.run(b):.2f} = {sess.run(c):.2f}')\n"
   ]
  },
  {
   "cell_type": "markdown",
   "metadata": {},
   "source": [
    "As you can see, the value of 'a' changes by the gradient * learning_rate at each iteration\n",
    "\n",
    "The code : \n",
    "\n",
    "```\n",
    "optimizer = GradientDescentOptimizer(args.learning_rate)\n",
    "learn = optimizer.minimize(loss)\n",
    "```\n",
    "\n",
    "Tells tensorflow to use the error function (loss) to derive gradient and\n",
    "create a function (learn) that will minimize the error.\n",
    "We could use the value of gradient to do this ourselves, but we\n",
    "well see that for more complicated graphs the above 2 lines does is more concise,\n",
    "and infact we can reduce it to one line\n",
    "\n",
    "```\n",
    "learn = GradientDescentOptimizer(args.learning_rate).minimize(loss)\n",
    "```"
   ]
  },
  {
   "cell_type": "markdown",
   "metadata": {},
   "source": [
    "## Lesson 6 - Estimation\n",
    "\n",
    "We will try to fit a line to the following data:\n",
    "```\n",
    "data_x = [1.0, 2.0, 3.0, 4.0, 5.0, 6.0, 7.0, 8.0, 9.0]\n",
    "data_y = [0.1, 0.2, 0.4, 0.4, 0.6, 0.5, 0.7, 0.7, 0.9]\n",
    "```\n",
    "Note that a perfect line doesn't exist that reaches every point, and so we will find a line that has the least error.\n",
    "\n",
    "Concepts:\n",
    "- Estimate an imperfect line *y = ax + b* given *y* and *x*.\n",
    "- *y = ax + b* is called our *model*"
   ]
  },
  {
   "cell_type": "code",
   "execution_count": 14,
   "metadata": {},
   "outputs": [],
   "source": [
    "# -- variables --\n",
    "# y = a * x + b\n",
    "y = placeholder(dtype=tf.float32)\n",
    "a = tf.Variable(0.0)\n",
    "x = placeholder(dtype=tf.float32)\n",
    "b = tf.Variable(0.0)\n",
    "\n",
    "# -- induction --\n",
    "# f(x) = a * x + b\n",
    "fx = tf.add(tf.multiply(a, x), b)\n",
    "\n",
    "# -- loss --\n",
    "# but we want f(x) to equal y\n",
    "# so we calculate a loss accordingly\n",
    "loss = tf.square(fx - y)\n",
    "learn = GradientDescentOptimizer(.001).minimize(loss)"
   ]
  },
  {
   "cell_type": "code",
   "execution_count": 15,
   "metadata": {},
   "outputs": [],
   "source": [
    "# start a session\n",
    "sess = Session()\n",
    "\n",
    "# initialize the variables\n",
    "sess.run(global_variables_initializer())\n",
    "\n",
    "# define the training data\n",
    "data_x = [1.0, 2.0, 3.0, 4.0, 5.0, 6.0, 7.0, 8.0, 9.0]\n",
    "data_y = [0.1, 0.2, 0.4, 0.4, 0.6, 0.5, 0.7, 0.7, 0.9]"
   ]
  },
  {
   "cell_type": "code",
   "execution_count": 16,
   "metadata": {},
   "outputs": [
    {
     "name": "stdout",
     "output_type": "stream",
     "text": [
      "\n",
      "Before training the total loss is 2.769999942742288\n"
     ]
    }
   ],
   "source": [
    "# let's calculate the total loss\n",
    "def printTotalLoss():\n",
    "    total_loss = 0\n",
    "    for index in range(len(data_x)):\n",
    "        total_loss += sess.run(loss, feed_dict={x: data_x[index], y: data_y[index]})\n",
    "    print(\"the total loss is\", total_loss)\n",
    "\n",
    "print(\"\\nBefore training\",end=\" \")\n",
    "printTotalLoss()"
   ]
  },
  {
   "cell_type": "code",
   "execution_count": 17,
   "metadata": {},
   "outputs": [
    {
     "name": "stdout",
     "output_type": "stream",
     "text": [
      "\n",
      "Calling get better\n",
      "iteration 1 the total loss is 0.8336960133165121\n",
      "iteration 10 the total loss is 0.036129510181126534\n",
      "iteration 100 the total loss is 0.035100822218666394\n",
      "iteration 1000 the total loss is 0.03401105559896678\n"
     ]
    }
   ],
   "source": [
    "def getBetter():\n",
    "    for index in range(len(data_x)):\n",
    "        sess.run(learn, feed_dict={x: data_x[index], y: data_y[index]})\n",
    "\n",
    "\n",
    "print(\"\\nCalling get better\")\n",
    "for iteration in range(1, 1001):\n",
    "    getBetter()\n",
    "    if iteration == 1 or iteration == 10 or iteration == 100 or iteration == 1000:\n",
    "        print(\"iteration\", iteration, end=\" \")\n",
    "        printTotalLoss()"
   ]
  },
  {
   "cell_type": "code",
   "execution_count": 18,
   "metadata": {},
   "outputs": [
    {
     "name": "stdout",
     "output_type": "stream",
     "text": [
      "\n",
      "We calculated the equation is y = 0.090352 * x + 0.047606114\n"
     ]
    }
   ],
   "source": [
    "print(\"\\nWe calculated the equation is y =\", sess.run(a), \"* x +\", sess.run(b))"
   ]
  },
  {
   "cell_type": "markdown",
   "metadata": {},
   "source": [
    "We can look at the data for x and y and see that it is close!\n",
    "\n",
    "We were able to use Tensorflow to fit a line to some data."
   ]
  },
  {
   "cell_type": "markdown",
   "metadata": {},
   "source": [
    "## Lesson 7 - Same thing but a lot better\n",
    "\n",
    "The difference between this lesson and the previous\n",
    "is that we will be using a matrix for 'x' and 'y'.\n",
    "\n",
    "Previously 'x' and 'y' were a single value.  For training\n",
    "we fed in 1 value for each at a time.  Tensorflow allows\n",
    "for, and excels at, working with matrixies.\n",
    "\n",
    "In this example 'x' and 'y' will be a 1D matrix of variable length.\n",
    "\n",
    "Instead of feeding each pair of values of x and y to Tensorflow\n",
    "we can instead feed all the values at once.\n",
    "\n",
    "Concept:\n",
    "- use the matrix"
   ]
  },
  {
   "cell_type": "code",
   "execution_count": 19,
   "metadata": {},
   "outputs": [],
   "source": [
    "# -- variables --\n",
    "# y = ax + b\n",
    "y = placeholder(dtype=tf.float32, shape=[None])  \n",
    "a = tf.Variable(0.0)\n",
    "x = placeholder(dtype=tf.float32, shape=[None])\n",
    "b = tf.Variable(0.0)"
   ]
  },
  {
   "cell_type": "markdown",
   "metadata": {},
   "source": [
    "Notice that we define Y and x to have a shape \"[none]\"\n",
    "\n",
    "This means that Y and x are a matrix of 1 dimension of unknown length."
   ]
  },
  {
   "cell_type": "code",
   "execution_count": 20,
   "metadata": {},
   "outputs": [],
   "source": [
    "# this is the same as the previous lesson\n",
    "\n",
    "# -- induction --\n",
    "# f(x) = ax + b\n",
    "fx = tf.add(tf.multiply(a, x), b)\n",
    "\n",
    "# -- loss --\n",
    "# but we want f(x) to equal y\n",
    "# so we calculate a loss accordingly\n",
    "loss = tf.reduce_mean(tf.square(fx - y))\n",
    "learn = GradientDescentOptimizer(.01).minimize(loss)\n",
    "\n",
    "# start a session\n",
    "sess = Session()\n",
    "\n",
    "# initialize the variables\n",
    "sess.run(global_variables_initializer())"
   ]
  },
  {
   "cell_type": "code",
   "execution_count": 21,
   "metadata": {},
   "outputs": [
    {
     "name": "stdout",
     "output_type": "stream",
     "text": [
      "iteration 1 , total loss = 0.04140444\n",
      "iteration 10 , total loss = 0.0040128585\n",
      "iteration 100 , total loss = 0.00388984\n",
      "iteration 1000 , total loss = 0.0037778467\n",
      "The equation is approximately f(x) = 0.09009025 * x + 0.049432103\n",
      "\n"
     ]
    }
   ],
   "source": [
    "# But here for training we can send ALL of data_x and data_y in one call\n",
    "\n",
    "for iteration in range(1, 1001):\n",
    "    sess.run(learn, feed_dict={x: data_x, y: data_y})\n",
    "    if iteration == 1 or iteration == 10 or iteration == 100 or iteration % 1000 == 0:\n",
    "        print(\"iteration\", iteration,\", total loss =\", sess.run(loss, feed_dict={x: data_x, y: data_y}))\n",
    "\n",
    "print(\"The equation is approximately f(x) =\", sess.run(a), \"* x +\", sess.run(b))\n",
    "\n",
    "print()"
   ]
  },
  {
   "cell_type": "markdown",
   "metadata": {},
   "source": [
    "### incase you missed it\n",
    "This went A LOT faster than feeding 1 pair of values at a time.  Why is that important?\n",
    "Well, for this toy problem it really doesn't make a difference.  For larger problems\n",
    "you'll want your training to *only* take hours instead of weeks.  Seriously, it's that much faster."
   ]
  },
  {
   "cell_type": "markdown",
   "metadata": {},
   "source": [
    "## Lesson 8 - Same thing with a curve\n",
    "\n",
    "Okay, let's try something a little more complicated than a line.  Let's do this equation `y = ax^2 + bx + c` on some new data\n",
    "\n",
    "```\n",
    "data_x = [1., 2., 3., 4., 5., 6., 7., 8., 9., 10.0, 11.0, 12.0, 13.0, 14.0, 15.0, 16.0, 17.0, 18.0, 19.0]\n",
    "data_y = [1., 2., 4., 4., 6., 5., 7., 7., 9., 10.0, 9.50, 8.00, 7.00, 6.00, 4.00, 5.00, 3.00, 2.00, 1.00]\n",
    "```\n",
    "\n",
    "Notice that data_x keeps increasing as data_y increases then descreases."
   ]
  },
  {
   "cell_type": "code",
   "execution_count": 22,
   "metadata": {},
   "outputs": [
    {
     "name": "stdout",
     "output_type": "stream",
     "text": [
      "\n",
      "iteration     1, the average loss = 5.07\n",
      "iteration    10, the average loss = 4.74\n",
      "iteration   100, the average loss = 4.67\n",
      "iteration  1000, the average loss = 3.95\n",
      "iteration  2000, the average loss = 3.18\n",
      "iteration  3000, the average loss = 2.45\n",
      "iteration  4000, the average loss = 1.81\n",
      "iteration  5000, the average loss = 1.49\n",
      "\n",
      "The approximate equation is f(x) = -0.058 * x^2 + 1.275 * x + 0.235\n",
      "\n"
     ]
    }
   ],
   "source": [
    "\n",
    "# -- variables --\n",
    "y = placeholder(dtype=tf.float32, shape=[None])\n",
    "a = tf.Variable(0.0)\n",
    "x = placeholder(dtype=tf.float32, shape=[None])\n",
    "b = tf.Variable(0.0)\n",
    "c = tf.Variable(0.0)\n",
    "\n",
    "\n",
    "# -- induction --\n",
    "fx = a * tf.square(x) + b * x + c\n",
    "\n",
    "# -- loss --\n",
    "# loss = tf.reduce_mean(tf.square(fx - y))\n",
    "loss = tf.sqrt(tf.reduce_mean(tf.square(fx - y)))\n",
    "learn = GradientDescentOptimizer(.0001).minimize(loss)\n",
    "\n",
    "# start a session\n",
    "sess = Session()\n",
    "\n",
    "# initialize the variables\n",
    "sess.run(global_variables_initializer())\n",
    "\n",
    "data_x = [1.0, 2.0, 3.0, 4.0, 5.0, 6.0, 7.0, 8.0, 9.0, 10.0, 11.0, 12.0, 13.0, 14.0, 15.0, 16.0, 17.0, 18.0, 19.0]\n",
    "data_y = [1.0, 2.0, 4.0, 4.0, 6.0, 5.0, 7.0, 7.0, 9.0, 10.0, 9.50, 8.00, 7.00, 6.00, 4.00, 5.00, 3.00, 2.00, 1.00]\n",
    "\n",
    "print()\n",
    "for iteration in range(1, 5001):\n",
    "    sess.run(learn, feed_dict={x: data_x, y: data_y})\n",
    "    if iteration == 1 or iteration == 10 or iteration == 100 or iteration % 1000 == 0:\n",
    "        print(f\"iteration {iteration:5}, the average loss = {sess.run(loss, feed_dict={x: data_x, y: data_y}):.2f}\")\n",
    "\n",
    "print()\n",
    "print(f\"The approximate equation is f(x) = {sess.run(a):.3f} * x^2 + {sess.run(b):.3f} * x + {sess.run(c):.3f}\")\n",
    "print()\n"
   ]
  }
 ],
 "metadata": {
  "kernelspec": {
   "display_name": "Learn to tensorflow",
   "language": "python",
   "name": "learn-to-tensorflow"
  },
  "language_info": {
   "codemirror_mode": {
    "name": "ipython",
    "version": 3
   },
   "file_extension": ".py",
   "mimetype": "text/x-python",
   "name": "python",
   "nbconvert_exporter": "python",
   "pygments_lexer": "ipython3",
   "version": "3.6.5"
  }
 },
 "nbformat": 4,
 "nbformat_minor": 2
}
